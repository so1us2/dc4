{
 "cells": [
  {
   "cell_type": "code",
   "execution_count": 13,
   "metadata": {},
   "outputs": [],
   "source": [
    "from dc4.dc4_utils import play_game_player_player\n",
    "from dc4.game import Game, PlayerQuitGame\n",
    "from dc4.agent import Agent\n",
    "from dc4.move import Move\n",
    "from dc4.uniformrandomalphaagent import UniformRandomAlphaAgent\n",
    "from dc4 import BLACK, RED, EMPTY\n",
    "\n",
    "import pickle"
   ]
  },
  {
   "cell_type": "code",
   "execution_count": 19,
   "metadata": {},
   "outputs": [],
   "source": [
    "testfile = open(\"testfile.txt\", 'wb')"
   ]
  },
  {
   "cell_type": "code",
   "execution_count": 20,
   "metadata": {},
   "outputs": [],
   "source": [
    "class A:\n",
    "    def __init__(self):\n",
    "        self.a = 5\n",
    "        self.b = 3\n",
    "\n",
    "pickle.dump(A(), open(\"testobj.pkl\", 'wb'))"
   ]
  },
  {
   "cell_type": "code",
   "execution_count": 9,
   "metadata": {},
   "outputs": [],
   "source": [
    "def play_game_agent_agent():\n",
    "    game = Game()\n",
    "    agent1 = UniformRandomAlphaAgent()\n",
    "    while not game.is_over():\n",
    "        agent1.make_move(game)\n",
    "    return game\n",
    "        "
   ]
  },
  {
   "cell_type": "code",
   "execution_count": 11,
   "metadata": {},
   "outputs": [
    {
     "name": "stdout",
     "output_type": "stream",
     "text": [
      "R to move\n",
      "B B R R R B R \n",
      "B R B R B R B \n",
      "R B B R B B B \n",
      "R R R B R B R \n",
      "B B B R R B R \n",
      "B R R B B R R \n",
      "\n",
      "Move history: [R2 B3 R5 B2 R1 B1 R1 B5 R3 B5 R6 B1 R6 B0 R1 B5 R5 B5 R2 B4 R6 B3 R4 B2 R4 B0 R3 B2 R2 B4 R0 B6 R0 B6 R6 B4 R3 B1 R3 B0 R4 B0 ]\n",
      "\n"
     ]
    }
   ],
   "source": [
    "for i in range(1000):\n",
    "    game = play_game_agent_agent()\n",
    "    result, winner = game.perform_all_checks()\n",
    "    if winner is EMPTY:\n",
    "        break\n",
    "        \n",
    "print(str(game))"
   ]
  },
  {
   "cell_type": "code",
   "execution_count": 12,
   "metadata": {},
   "outputs": [
    {
     "name": "stdout",
     "output_type": "stream",
     "text": [
      "(True, '-')\n"
     ]
    }
   ],
   "source": [
    "print(game.perform_all_checks())"
   ]
  },
  {
   "cell_type": "code",
   "execution_count": null,
   "metadata": {},
   "outputs": [],
   "source": []
  }
 ],
 "metadata": {
  "kernelspec": {
   "display_name": "Python 3",
   "language": "python",
   "name": "python3"
  },
  "language_info": {
   "codemirror_mode": {
    "name": "ipython",
    "version": 3
   },
   "file_extension": ".py",
   "mimetype": "text/x-python",
   "name": "python",
   "nbconvert_exporter": "python",
   "pygments_lexer": "ipython3",
   "version": "3.5.2"
  }
 },
 "nbformat": 4,
 "nbformat_minor": 2
}
