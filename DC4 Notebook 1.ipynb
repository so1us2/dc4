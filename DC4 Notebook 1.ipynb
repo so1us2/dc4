{
 "cells": [
  {
   "cell_type": "code",
   "execution_count": 15,
   "metadata": {},
   "outputs": [],
   "source": [
    "class Board:\n",
    "    def __init__(self):\n",
    "        self.board = [['-'] * 6 for _ in range(7)]\n",
    "    \n",
    "    def __str__(self):\n",
    "        '''\n",
    "        Representation of board with line-breaks, as in\n",
    "        - - - - - - - \n",
    "        - - - - - - - \n",
    "        - - - - - - - \n",
    "        - - - - - - - \n",
    "        - - - - B - - \n",
    "        - - B R R R -\n",
    "        '''\n",
    "        ret = \"\"\n",
    "        for j in range(5,-1,-1):\n",
    "            for i in range(7):\n",
    "                ret += self.board[i][j] + ' '\n",
    "            ret += '\\n'\n",
    "        return ret\n",
    "    \n",
    "    def __getitem__(self, i):\n",
    "        '''\n",
    "        So that board[i][j] is at Cartesian location i,j from bottom-left corner.  \n",
    "        '''\n",
    "        return self.board[i]"
   ]
  },
  {
   "cell_type": "code",
   "execution_count": 16,
   "metadata": {},
   "outputs": [],
   "source": [
    "board = Board()"
   ]
  },
  {
   "cell_type": "code",
   "execution_count": 17,
   "metadata": {},
   "outputs": [
    {
     "data": {
      "text/plain": [
       "<__main__.Board at 0x1210aa97630>"
      ]
     },
     "execution_count": 17,
     "metadata": {},
     "output_type": "execute_result"
    }
   ],
   "source": [
    "board"
   ]
  },
  {
   "cell_type": "code",
   "execution_count": 18,
   "metadata": {},
   "outputs": [
    {
     "name": "stdout",
     "output_type": "stream",
     "text": [
      "- - - - - - - \n",
      "- - - - - - - \n",
      "- - - - - - - \n",
      "- - - - - - - \n",
      "- - - - - - - \n",
      "- - - - - - - \n",
      "\n"
     ]
    }
   ],
   "source": [
    "print(board)"
   ]
  },
  {
   "cell_type": "code",
   "execution_count": 21,
   "metadata": {},
   "outputs": [
    {
     "name": "stdout",
     "output_type": "stream",
     "text": [
      "- - - - - - - \n",
      "- - - - - - - \n",
      "- - - - - - - \n",
      "- - - - - - - \n",
      "- - - B - - - \n",
      "- - - - - - - \n",
      "\n"
     ]
    }
   ],
   "source": [
    "board = Board()\n",
    "board.board[3][1] = 'B'\n",
    "print(board)"
   ]
  },
  {
   "cell_type": "code",
   "execution_count": 20,
   "metadata": {},
   "outputs": [
    {
     "name": "stdout",
     "output_type": "stream",
     "text": [
      "- - - - - - - \n",
      "- - - - - - - \n",
      "- - - - - - - \n",
      "- - - - - - - \n",
      "- - - B - - - \n",
      "- - - - - - - \n",
      "\n"
     ]
    }
   ],
   "source": [
    "print(board)"
   ]
  },
  {
   "cell_type": "code",
   "execution_count": null,
   "metadata": {},
   "outputs": [],
   "source": []
  }
 ],
 "metadata": {
  "kernelspec": {
   "display_name": "Python 3",
   "language": "python",
   "name": "python3"
  },
  "language_info": {
   "codemirror_mode": {
    "name": "ipython",
    "version": 3
   },
   "file_extension": ".py",
   "mimetype": "text/x-python",
   "name": "python",
   "nbconvert_exporter": "python",
   "pygments_lexer": "ipython3",
   "version": "3.5.2"
  }
 },
 "nbformat": 4,
 "nbformat_minor": 2
}
