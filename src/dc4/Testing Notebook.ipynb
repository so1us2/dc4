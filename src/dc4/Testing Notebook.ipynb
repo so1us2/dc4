{
 "cells": [
  {
   "cell_type": "code",
   "execution_count": 1,
   "metadata": {},
   "outputs": [],
   "source": [
    "from dc4.dc4_utils import play_game_player_player\n",
    "from dc4.game import Game\n",
    "from dc4.agent import Agent\n",
    "from dc4.move import Move\n",
    "from dc4.uniformrandomalphaagent import UniformRandomAlphaAgent"
   ]
  },
  {
   "cell_type": "code",
   "execution_count": 2,
   "metadata": {},
   "outputs": [],
   "source": [
    "ur_agent = UniformRandomAlphaAgent()"
   ]
  },
  {
   "cell_type": "code",
   "execution_count": 9,
   "metadata": {},
   "outputs": [],
   "source": [
    "def play_game_player_agent(player_goes_first=True):\n",
    "    game = Game()\n",
    "    agent = UniformRandomAlphaAgent()\n",
    "    while not game.is_over():\n",
    "        if player_goes_first:\n",
    "            try:\n",
    "                game.prompt_for_player_move()\n",
    "            except PlayerQuitGame:\n",
    "                break\n",
    "            if game.is_over(): break\n",
    "            agent.make_move(game)\n",
    "        else:\n",
    "            agent.make_move(game)\n",
    "            if game.is_over(): break\n",
    "            try:\n",
    "                game.prompt_for_player_move()\n",
    "            except PlayerQuitGame:\n",
    "                break\n",
    "    game.print_result()"
   ]
  },
  {
   "cell_type": "code",
   "execution_count": 10,
   "metadata": {},
   "outputs": [
    {
     "name": "stdout",
     "output_type": "stream",
     "text": [
      "Current game status:\n",
      "R to move\n",
      "- - - - - - - \n",
      "- - - - - - - \n",
      "- - - - - - - \n",
      "- - - - - - - \n",
      "- - - - - - - \n",
      "- - - - - - - \n",
      "\n",
      "Move history: []\n",
      "\n",
      "R, make a legal move.1\n",
      "Current game status:\n",
      "R to move\n",
      "- - - - - - - \n",
      "- - - - - - - \n",
      "- - - - - - - \n",
      "- - - - - - - \n",
      "- - - - - - - \n",
      "- R - B - - - \n",
      "\n",
      "Move history: [R1 B3 ]\n",
      "\n",
      "R, make a legal move.quit\n"
     ]
    },
    {
     "ename": "NameError",
     "evalue": "name 'PlayerQuitGame' is not defined",
     "output_type": "error",
     "traceback": [
      "\u001b[1;31m---------------------------------------------------------------------------\u001b[0m",
      "\u001b[1;31mPlayerQuitGame\u001b[0m                            Traceback (most recent call last)",
      "\u001b[1;32m<ipython-input-9-4b7cdf40c83d>\u001b[0m in \u001b[0;36mplay_game_player_agent\u001b[1;34m(player_goes_first)\u001b[0m\n\u001b[0;32m      6\u001b[0m             \u001b[1;32mtry\u001b[0m\u001b[1;33m:\u001b[0m\u001b[1;33m\u001b[0m\u001b[0m\n\u001b[1;32m----> 7\u001b[1;33m                 \u001b[0mgame\u001b[0m\u001b[1;33m.\u001b[0m\u001b[0mprompt_for_player_move\u001b[0m\u001b[1;33m(\u001b[0m\u001b[1;33m)\u001b[0m\u001b[1;33m\u001b[0m\u001b[0m\n\u001b[0m\u001b[0;32m      8\u001b[0m             \u001b[1;32mexcept\u001b[0m \u001b[0mPlayerQuitGame\u001b[0m\u001b[1;33m:\u001b[0m\u001b[1;33m\u001b[0m\u001b[0m\n",
      "\u001b[1;32m~\\Google Drive\\Projects and Endeavors\\Programming\\dc4\\src\\dc4\\game.py\u001b[0m in \u001b[0;36mprompt_for_player_move\u001b[1;34m(self)\u001b[0m\n\u001b[0;32m    128\u001b[0m             \u001b[1;32mif\u001b[0m \u001b[0mplayer_input\u001b[0m \u001b[1;33m==\u001b[0m \u001b[1;34m\"exit\"\u001b[0m \u001b[1;32mor\u001b[0m \u001b[0mplayer_input\u001b[0m \u001b[1;33m==\u001b[0m \u001b[1;34m\"quit\"\u001b[0m\u001b[1;33m:\u001b[0m\u001b[1;33m\u001b[0m\u001b[0m\n\u001b[1;32m--> 129\u001b[1;33m                 \u001b[1;32mraise\u001b[0m \u001b[0mPlayerQuitGame\u001b[0m\u001b[1;33m(\u001b[0m\u001b[1;33m)\u001b[0m\u001b[1;33m\u001b[0m\u001b[0m\n\u001b[0m\u001b[0;32m    130\u001b[0m \u001b[1;33m\u001b[0m\u001b[0m\n",
      "\u001b[1;31mPlayerQuitGame\u001b[0m: ",
      "\nDuring handling of the above exception, another exception occurred:\n",
      "\u001b[1;31mNameError\u001b[0m                                 Traceback (most recent call last)",
      "\u001b[1;32m<ipython-input-10-c9de3e4af7c6>\u001b[0m in \u001b[0;36m<module>\u001b[1;34m\u001b[0m\n\u001b[1;32m----> 1\u001b[1;33m \u001b[0mplay_game_player_agent\u001b[0m\u001b[1;33m(\u001b[0m\u001b[1;33m)\u001b[0m\u001b[1;33m\u001b[0m\u001b[0m\n\u001b[0m",
      "\u001b[1;32m<ipython-input-9-4b7cdf40c83d>\u001b[0m in \u001b[0;36mplay_game_player_agent\u001b[1;34m(player_goes_first)\u001b[0m\n\u001b[0;32m      6\u001b[0m             \u001b[1;32mtry\u001b[0m\u001b[1;33m:\u001b[0m\u001b[1;33m\u001b[0m\u001b[0m\n\u001b[0;32m      7\u001b[0m                 \u001b[0mgame\u001b[0m\u001b[1;33m.\u001b[0m\u001b[0mprompt_for_player_move\u001b[0m\u001b[1;33m(\u001b[0m\u001b[1;33m)\u001b[0m\u001b[1;33m\u001b[0m\u001b[0m\n\u001b[1;32m----> 8\u001b[1;33m             \u001b[1;32mexcept\u001b[0m \u001b[0mPlayerQuitGame\u001b[0m\u001b[1;33m:\u001b[0m\u001b[1;33m\u001b[0m\u001b[0m\n\u001b[0m\u001b[0;32m      9\u001b[0m                 \u001b[1;32mbreak\u001b[0m\u001b[1;33m\u001b[0m\u001b[0m\n\u001b[0;32m     10\u001b[0m             \u001b[1;32mif\u001b[0m \u001b[0mgame\u001b[0m\u001b[1;33m.\u001b[0m\u001b[0mis_over\u001b[0m\u001b[1;33m(\u001b[0m\u001b[1;33m)\u001b[0m\u001b[1;33m:\u001b[0m \u001b[1;32mbreak\u001b[0m\u001b[1;33m\u001b[0m\u001b[0m\n",
      "\u001b[1;31mNameError\u001b[0m: name 'PlayerQuitGame' is not defined"
     ]
    }
   ],
   "source": [
    "play_game_player_agent()"
   ]
  },
  {
   "cell_type": "code",
   "execution_count": null,
   "metadata": {},
   "outputs": [],
   "source": []
  }
 ],
 "metadata": {
  "kernelspec": {
   "display_name": "Python 3",
   "language": "python",
   "name": "python3"
  },
  "language_info": {
   "codemirror_mode": {
    "name": "ipython",
    "version": 3
   },
   "file_extension": ".py",
   "mimetype": "text/x-python",
   "name": "python",
   "nbconvert_exporter": "python",
   "pygments_lexer": "ipython3",
   "version": "3.5.2"
  }
 },
 "nbformat": 4,
 "nbformat_minor": 2
}
