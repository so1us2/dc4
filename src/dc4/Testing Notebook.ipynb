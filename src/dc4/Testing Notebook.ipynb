{
 "cells": [
  {
   "cell_type": "code",
   "execution_count": 1,
   "metadata": {},
   "outputs": [],
   "source": [
    "from dc4.dc4_utils import play_game_player_player\n",
    "from dc4.game import Game\n",
    "from dc4.agent import Agent\n",
    "from dc4.move import Move"
   ]
  },
  {
   "cell_type": "code",
   "execution_count": 2,
   "metadata": {},
   "outputs": [
    {
     "name": "stdout",
     "output_type": "stream",
     "text": [
      "Current game status:\n",
      "R to move\n",
      "- - - - - - - \n",
      "- - - - - - - \n",
      "- - - - - - - \n",
      "- - - - - - - \n",
      "- - - - - - - \n",
      "- - - - - - - \n",
      "\n",
      "Move history: []\n",
      "\n",
      "R, make a legal move.1\n",
      "Current game status:\n",
      "B to move\n",
      "- - - - - - - \n",
      "- - - - - - - \n",
      "- - - - - - - \n",
      "- - - - - - - \n",
      "- - - - - - - \n",
      "- R - - - - - \n",
      "\n",
      "Move history: [R1 ]\n",
      "\n",
      "B, make a legal move.3\n",
      "Current game status:\n",
      "R to move\n",
      "- - - - - - - \n",
      "- - - - - - - \n",
      "- - - - - - - \n",
      "- - - - - - - \n",
      "- - - - - - - \n",
      "- R - B - - - \n",
      "\n",
      "Move history: [R1 B3 ]\n",
      "\n",
      "R, make a legal move.quit\n",
      "That's strange.  The game is not over yet.\n"
     ]
    }
   ],
   "source": [
    "play_game_player_player()"
   ]
  },
  {
   "cell_type": "code",
   "execution_count": null,
   "metadata": {},
   "outputs": [],
   "source": []
  }
 ],
 "metadata": {
  "kernelspec": {
   "display_name": "Python 3",
   "language": "python",
   "name": "python3"
  },
  "language_info": {
   "codemirror_mode": {
    "name": "ipython",
    "version": 3
   },
   "file_extension": ".py",
   "mimetype": "text/x-python",
   "name": "python",
   "nbconvert_exporter": "python",
   "pygments_lexer": "ipython3",
   "version": "3.5.2"
  }
 },
 "nbformat": 4,
 "nbformat_minor": 2
}
